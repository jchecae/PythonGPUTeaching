{
 "cells": [
  {
   "cell_type": "code",
   "execution_count": 9,
   "id": "41493d8f-737e-42a4-9328-049595033aae",
   "metadata": {},
   "outputs": [],
   "source": [
    "import pycuda\n",
    "import pycuda.driver as cuda\n",
    "from pycuda.compiler import SourceModule\n",
    "import pycuda.autoinit\n",
    "import numpy as np\n",
    "import time"
   ]
  },
  {
   "cell_type": "code",
   "execution_count": 10,
   "id": "501ade97-4d1f-4480-8a47-d68c881c2e2d",
   "metadata": {},
   "outputs": [],
   "source": [
    "def compute_pi_cpu(n_points):\n",
    "    x_rand = np.random.rand(n_points)\n",
    "    y_rand = np.random.rand(n_points)\n",
    "\n",
    "    #n_inside = 0\n",
    "    #for i in range(n_points):\n",
    "    #    n_inside += np.sqrt(x_rand[i]**2 + y_rand[i]**2) <= 1.0\n",
    "    \n",
    "    # 1. Vectorize loop\n",
    "    inside = np.sqrt(x_rand**2+y_rand**2) <= 1.0\n",
    "    n_inside = np.sum(inside)\n",
    "\n",
    "    pi = 4 * n_inside/n_points\n",
    "\n",
    "    return pi"
   ]
  },
  {
   "cell_type": "code",
   "execution_count": 11,
   "id": "0a9e8b82-d51c-488f-80b9-889592746562",
   "metadata": {},
   "outputs": [
    {
     "name": "stdout",
     "output_type": "stream",
     "text": [
      "3.23046875\n",
      "Time to execute cpu version: 0.000640 seconds\n"
     ]
    }
   ],
   "source": [
    "tic = time.time()\n",
    "print(compute_pi_cpu(1024))\n",
    "toc = time.time()\n",
    "\n",
    "print(\"Time to execute cpu version: {:f} seconds\".format(toc-tic))"
   ]
  },
  {
   "cell_type": "code",
   "execution_count": 12,
   "id": "402f723e-036a-4a74-b902-63c7746fb58f",
   "metadata": {},
   "outputs": [],
   "source": [
    "pi_kernel_src = \"\"\"\n",
    "//Based on Stroustrup, adapted for CUDA\n",
    "//pseudorandom numbers\n",
    "__device__ float generateRandomNumber(long& last_draw) {\n",
    "    last_draw = last_draw*1103515245 + 12345;\n",
    "    long abs = last_draw & 0x7fffffff;\n",
    "    return abs / 2147483648.0; \n",
    "}\n",
    "\n",
    "__global__ void computePi(unsigned int* inside, unsigned int seed) {\n",
    "    //1 generate random numbers\n",
    "    //unsigned int tid = threadIdx.x;\n",
    "    unsigned int tid = blockIdx.x*blockDim.x + threadIdx.x;\n",
    "    \n",
    "    long rand_seed = seed + tid;\n",
    "    float x = generateRandomNumber(rand_seed);\n",
    "    float y = generateRandomNumber(rand_seed);\n",
    "    \n",
    "    //2 compute the radius from the origin\n",
    "    float r = sqrt(x*x + y*y);\n",
    "    \n",
    "    //3 check if it is inside the circle\n",
    "    if (r <= 1) {\n",
    "        inside[tid] = 1;\n",
    "    }\n",
    "}\n",
    "\"\"\"\n",
    "\n",
    "mod = SourceModule(pi_kernel_src)\n",
    "func = mod.get_function(\"computePi\")"
   ]
  },
  {
   "cell_type": "code",
   "execution_count": 24,
   "id": "10d14c91-5d68-448e-9cd4-1e0073c5ea2b",
   "metadata": {},
   "outputs": [],
   "source": [
    "def compute_pi_gpu(n_points, threads_per_block=512):\n",
    "    assert(n_points % threads_per_block == 0)\n",
    "    \n",
    "    bytes_per_uint = 4\n",
    "    \n",
    "    inside_gpu = cuda.mem_alloc(bytes_per_uint * n_points)\n",
    "    \n",
    "    num_blocks = n_points // threads_per_block\n",
    "    func(inside_gpu, np.uint32(time.time()), block=(threads_per_block,1,1), grid=(num_blocks,1,1))\n",
    "    \n",
    "    inside_cpu = np.empty(n_points, dtype=np.uint32)\n",
    "    cuda.memcpy_dtoh(inside_cpu, inside_gpu)\n",
    "    \n",
    "    n_inside = np.sum(inside_cpu)\n",
    "                \n",
    "    pi = 4 * n_inside/n_points\n",
    "            \n",
    "    return pi"
   ]
  },
  {
   "cell_type": "code",
   "execution_count": 26,
   "id": "70096ed0-73e1-409e-9f82-bf79ab9d80c0",
   "metadata": {},
   "outputs": [
    {
     "name": "stdout",
     "output_type": "stream",
     "text": [
      "3.1415915703125\n",
      "Time to execute gpu version: 1.403937 seconds\n"
     ]
    }
   ],
   "source": [
    "tic = time.time()\n",
    "print(compute_pi_gpu(512000000))\n",
    "toc = time.time()\n",
    "\n",
    "print(\"Time to execute gpu version: {:f} seconds\".format(toc-tic))"
   ]
  },
  {
   "cell_type": "code",
   "execution_count": null,
   "id": "7c6f801d-25fd-4a14-bcda-181452bf4f72",
   "metadata": {},
   "outputs": [],
   "source": []
  }
 ],
 "metadata": {
  "kernelspec": {
   "display_name": "ShallowWaterGPU_HPC",
   "language": "python",
   "name": "shallowwatergpu_hpc"
  },
  "language_info": {
   "codemirror_mode": {
    "name": "ipython",
    "version": 3
   },
   "file_extension": ".py",
   "mimetype": "text/x-python",
   "name": "python",
   "nbconvert_exporter": "python",
   "pygments_lexer": "ipython3",
   "version": "3.7.12"
  }
 },
 "nbformat": 4,
 "nbformat_minor": 5
}
