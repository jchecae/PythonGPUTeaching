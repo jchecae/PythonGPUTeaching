{
 "cells": [
  {
   "cell_type": "code",
   "execution_count": 1,
   "id": "bda5d8cc-69fc-4135-b7d5-a63cb41ab409",
   "metadata": {},
   "outputs": [
    {
     "name": "stdout",
     "output_type": "stream",
     "text": [
      "Hello world\n"
     ]
    }
   ],
   "source": [
    "print(\"Hello world\")"
   ]
  },
  {
   "cell_type": "code",
   "execution_count": 2,
   "id": "eb700c75-1d3c-4259-a02d-fe5c271691fb",
   "metadata": {},
   "outputs": [],
   "source": [
    "i = 9"
   ]
  },
  {
   "cell_type": "code",
   "execution_count": 3,
   "id": "6adfe020-b655-4b59-9274-56bd85cb30a7",
   "metadata": {},
   "outputs": [],
   "source": [
    "i = i + 2"
   ]
  },
  {
   "cell_type": "code",
   "execution_count": 4,
   "id": "7b2b400f-aaa8-4cd2-947d-1b8daaf0153d",
   "metadata": {},
   "outputs": [
    {
     "name": "stdout",
     "output_type": "stream",
     "text": [
      "11\n"
     ]
    }
   ],
   "source": [
    "print(i)"
   ]
  },
  {
   "cell_type": "code",
   "execution_count": 5,
   "id": "42c9e2d3-2fcb-457d-9fc6-79942d4a0bd0",
   "metadata": {},
   "outputs": [
    {
     "ename": "ModuleNotFoundError",
     "evalue": "No module named 'pycuda'",
     "output_type": "error",
     "traceback": [
      "\u001b[0;31m---------------------------------------------------------------------------\u001b[0m",
      "\u001b[0;31mModuleNotFoundError\u001b[0m                       Traceback (most recent call last)",
      "Cell \u001b[0;32mIn[5], line 3\u001b[0m\n\u001b[1;32m      1\u001b[0m \u001b[38;5;66;03m#Import pycuda and specific submodules\u001b[39;00m\n\u001b[0;32m----> 3\u001b[0m \u001b[38;5;28;01mimport\u001b[39;00m \u001b[38;5;21;01mpycuda\u001b[39;00m\n\u001b[1;32m      4\u001b[0m \u001b[38;5;28;01mimport\u001b[39;00m \u001b[38;5;21;01mpycuda\u001b[39;00m\u001b[38;5;21;01m.\u001b[39;00m\u001b[38;5;21;01mdriver\u001b[39;00m \u001b[38;5;28;01mas\u001b[39;00m \u001b[38;5;21;01mcuda\u001b[39;00m\n\u001b[1;32m      5\u001b[0m \u001b[38;5;28;01mfrom\u001b[39;00m \u001b[38;5;21;01mpycuda\u001b[39;00m\u001b[38;5;21;01m.\u001b[39;00m\u001b[38;5;21;01mcompiler\u001b[39;00m \u001b[38;5;28;01mimport\u001b[39;00m SourceModule\n",
      "\u001b[0;31mModuleNotFoundError\u001b[0m: No module named 'pycuda'"
     ]
    }
   ],
   "source": [
    "#Import pycuda and specific submodules\n",
    "\n",
    "import pycuda\n",
    "import pycuda.driver as cuda\n",
    "from pycuda.compiler import SourceModule"
   ]
  },
  {
   "cell_type": "code",
   "execution_count": null,
   "id": "6bd8ffee-a2be-4d41-a81c-0780478696a6",
   "metadata": {},
   "outputs": [],
   "source": [
    "#Remember to initialize CUDA!!!\n",
    "import pycuda.autoinit"
   ]
  },
  {
   "cell_type": "code",
   "execution_count": null,
   "id": "71e1954b-cef4-4b53-bb8f-7d0661d2cda9",
   "metadata": {},
   "outputs": [],
   "source": [
    "#import Numpy to generate numbers on the CPU\n",
    "import numpy as np"
   ]
  },
  {
   "cell_type": "code",
   "execution_count": null,
   "id": "dee47313-d2e2-4ba4-a3c5-af03ebb786eb",
   "metadata": {},
   "outputs": [],
   "source": [
    "#First, generate some random numbers on the CPU\n",
    "a = np.random.randn(4,4).astype(dtype=np.float32)\n",
    "print(a)"
   ]
  },
  {
   "cell_type": "code",
   "execution_count": null,
   "id": "06b44955-fd74-42a9-87ab-c887d92da591",
   "metadata": {},
   "outputs": [],
   "source": [
    "#Print some information about a:\n",
    "print(a.dtype)\n",
    "print(a.nbytes)"
   ]
  },
  {
   "cell_type": "code",
   "execution_count": null,
   "id": "cc833e84-94ec-4108-95ed-3ce137acdced",
   "metadata": {},
   "outputs": [],
   "source": [
    "#Double check if size makes sense:\n",
    "a_num_elements = 4*4\n",
    "num_bytes_per_element = 4 #NB: single precision is 4 bytes, double 8\n",
    "print(a_num_elements*num_bytes_per_element)"
   ]
  },
  {
   "cell_type": "code",
   "execution_count": null,
   "id": "592c97f5-31c3-4e94-b8f1-0e802066208e",
   "metadata": {},
   "outputs": [],
   "source": [
    "#Transfer the data to the GPU (and allocate data there)\n",
    "a_gpu = cuda.mem_alloc(a.nbytes)"
   ]
  },
  {
   "cell_type": "code",
   "execution_count": null,
   "id": "8adbb209-a920-4ff6-9bf5-10823fd4ff6e",
   "metadata": {},
   "outputs": [],
   "source": [
    "#Copy data from host (cpu, numpy, a) to device (gpu, pycuda, a_gpu)\n",
    "cuda.memcpy_htod(a_gpu, a)"
   ]
  },
  {
   "cell_type": "code",
   "execution_count": null,
   "id": "10c8d7da-ad5d-4516-a4ee-6d0c656462fd",
   "metadata": {},
   "outputs": [],
   "source": [
    "kernel_src = \"\"\"\n",
    "//Important: This expects a_gpu to be single precision numbers,\n",
    "//           not double precision\n",
    "__global__ void double_a(float* a_gpu) {\n",
    "    int tid = threadIdx.x + threadIdx.y * 4;\n",
    "    \n",
    "    a_gpu[tid] = a_gpu[tid]*2+1;\n",
    "}\n",
    "\"\"\"\n",
    "\n",
    "mod = SourceModule(kernel_src) #Create the source module from the source code\n",
    "func = mod.get_function(\"double_a\") #Get the compiled function double_a from the source code"
   ]
  },
  {
   "cell_type": "code",
   "execution_count": null,
   "id": "221392f4-4136-41bf-8817-6137f1da03a2",
   "metadata": {},
   "outputs": [],
   "source": [
    "func(a_gpu, block=(4,4,1),grid=(1,1,1))"
   ]
  },
  {
   "cell_type": "code",
   "execution_count": null,
   "id": "8263a370-3175-452d-aaae-84aa7a0c4bda",
   "metadata": {},
   "outputs": [],
   "source": [
    "#print out what a_gpu is:\n",
    "b = np.empty_like(a) #create an empty array equal in datatype and size to al\n",
    "cuda.memcpy_dtoh(b, a_gpu)\n",
    "\n",
    "print(a)\n",
    "print(b)\n",
    "\n",
    "print(2*a-b)"
   ]
  },
  {
   "cell_type": "code",
   "execution_count": null,
   "id": "b767b4ba-24c7-4395-8b59-47e3bb866a97",
   "metadata": {},
   "outputs": [],
   "source": [
    "from matplotlib import pyplot as plt"
   ]
  },
  {
   "cell_type": "code",
   "execution_count": null,
   "id": "eb47fc96-6b52-40a7-99fb-7bfd321acb8b",
   "metadata": {},
   "outputs": [],
   "source": [
    "plt.plot(a[0,:], label='a')\n",
    "plt.plot(b[0,:], label='b')\n",
    "plt.legend()\n",
    "plt.title('Publish this graph')"
   ]
  },
  {
   "cell_type": "code",
   "execution_count": null,
   "id": "5f29f3bb-bfcb-4f28-b296-c3c95dbeaf75",
   "metadata": {},
   "outputs": [],
   "source": []
  }
 ],
 "metadata": {
  "kernelspec": {
   "display_name": "Python 3 (ipykernel)",
   "language": "python",
   "name": "python3"
  },
  "language_info": {
   "codemirror_mode": {
    "name": "ipython",
    "version": 3
   },
   "file_extension": ".py",
   "mimetype": "text/x-python",
   "name": "python",
   "nbconvert_exporter": "python",
   "pygments_lexer": "ipython3",
   "version": "3.11.6"
  }
 },
 "nbformat": 4,
 "nbformat_minor": 5
}
