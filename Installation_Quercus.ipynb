{
 "cells": [
  {
   "cell_type": "markdown",
   "id": "19726df0-8e98-46e9-8ce0-e23e1301b5fc",
   "metadata": {},
   "source": [
    "# Installation instructions for Quercus.ugr.es"
   ]
  },
  {
   "cell_type": "markdown",
   "id": "c8546b06-7c53-4817-ad2e-9b48977fad56",
   "metadata": {},
   "source": [
    "0. Log into the GPU server (`ssh -XAY <your username>@quercus.ugr.es`)\n",
    "1. Download installer from https://docs.conda.io/projects/miniconda/en/latest/index.html (`wget https://repo.anaconda.com/miniconda/Miniconda3-latest-Linux-x86_64.sh`)\n",
    "2. Run installer and choose the default option on all questions\n",
    "3. Go to miniconda3/bin under your home directory (`cd ~/miniconda3/bin`)\n",
    "4. Run `./conda init`\n",
    "5. Logout and in again, or run `source ~/.bashrc`\n",
    "6. Get the environment file for the short course (`wget https://raw.githubusercontent.com/setmar/PythonGPUTeaching/master/gpu_env.yml`)\n",
    "7. Install the environment (`conda env create --name gpu_env --file gpu_env.yml`) - this may take a few minutes (15 minutes when I did the installation)\n",
    "8. Activate the new environment (`conda activate gpu_env`)\n",
    "9. Run browserless jupyter lab (`jupyter lab --no-browser`)\n",
    "10. (On you laptop:) Make a ssh tunnel from your laptop to Quercus (`ssh -L 8888:localhost:8888 <your username>@quercus.ugr.es`). NOTE: If the jupyter lab server uses another port, substitute 8888 with the port being used, which you will find in the URL printed when you started jupyter lab.\n",
    "11. Find the URL (starting with localhost and including the token) to the jupyter lab session and paste it into your browser."
   ]
  },
  {
   "cell_type": "markdown",
   "id": "0bbfa3b6-4987-4f41-8ec3-acbe2a16ba73",
   "metadata": {},
   "source": [
    "You may also install jupyter lab directly on your own laptop if you have an NVIDIA GPU. In that case; just start `jupyter lab` and skip steps 10 and 11 above."
   ]
  }
 ],
 "metadata": {
  "kernelspec": {
   "display_name": "ShallowWaterGPU_HPC",
   "language": "python",
   "name": "shallowwatergpu_hpc"
  },
  "language_info": {
   "codemirror_mode": {
    "name": "ipython",
    "version": 3
   },
   "file_extension": ".py",
   "mimetype": "text/x-python",
   "name": "python",
   "nbconvert_exporter": "python",
   "pygments_lexer": "ipython3",
   "version": "3.7.12"
  }
 },
 "nbformat": 4,
 "nbformat_minor": 5
}
